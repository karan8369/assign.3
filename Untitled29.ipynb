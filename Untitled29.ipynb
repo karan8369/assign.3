{
 "cells": [
  {
   "cell_type": "code",
   "execution_count": 1,
   "id": "6ff2086e",
   "metadata": {},
   "outputs": [
    {
     "name": "stdout",
     "output_type": "stream",
     "text": [
      "HACK 2\n",
      "A\n",
      "C\n",
      "H\n",
      "K\n",
      "AC\n",
      "AH\n",
      "AK\n",
      "CH\n",
      "CK\n",
      "HK\n"
     ]
    }
   ],
   "source": [
    "from itertools import combinations\n",
    "s ,k = input().split()\n",
    "for i in range(1, int(k) + 1):\n",
    "    for combination in combinations(sorted(s), i):\n",
    "        print(''.join(combination))"
   ]
  },
  {
   "cell_type": "code",
   "execution_count": 2,
   "id": "9e9df37a",
   "metadata": {},
   "outputs": [
    {
     "name": "stdout",
     "output_type": "stream",
     "text": [
      "1 2\n",
      "3 4\n",
      "(1, 3) (1, 4) (2, 3) (2, 4) "
     ]
    }
   ],
   "source": [
    "from itertools import product\n",
    "A = list(map(int, input().split()))\n",
    "B = list(map(int, input().split()))\n",
    "result = list(product(A, B))\n",
    "sorted_result = sorted(result)\n",
    "for item in sorted_result:\n",
    "    print(item, end=' ')\n"
   ]
  },
  {
   "cell_type": "code",
   "execution_count": null,
   "id": "1e797e54",
   "metadata": {},
   "outputs": [],
   "source": []
  }
 ],
 "metadata": {
  "kernelspec": {
   "display_name": "Python 3 (ipykernel)",
   "language": "python",
   "name": "python3"
  },
  "language_info": {
   "codemirror_mode": {
    "name": "ipython",
    "version": 3
   },
   "file_extension": ".py",
   "mimetype": "text/x-python",
   "name": "python",
   "nbconvert_exporter": "python",
   "pygments_lexer": "ipython3",
   "version": "3.10.9"
  }
 },
 "nbformat": 4,
 "nbformat_minor": 5
}
